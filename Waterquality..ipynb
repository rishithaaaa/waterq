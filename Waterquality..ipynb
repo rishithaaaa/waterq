{
 "cells": [
  {
   "cell_type": "code",
   "execution_count": 1,
   "metadata": {
    "execution": {
     "iopub.execute_input": "2023-01-25T16:06:16.598860Z",
     "iopub.status.busy": "2023-01-25T16:06:16.598404Z",
     "iopub.status.idle": "2023-01-25T16:06:17.179209Z",
     "shell.execute_reply": "2023-01-25T16:06:17.177572Z",
     "shell.execute_reply.started": "2023-01-25T16:06:16.598818Z"
    }
   },
   "outputs": [],
   "source": [
    "import numpy as np\n",
    "import pandas as pd\n",
    "import matplotlib.pyplot as plt\n",
    "import seaborn as sns"
   ]
  },
  {
   "cell_type": "code",
   "execution_count": 2,
   "metadata": {
    "execution": {
     "iopub.execute_input": "2023-01-25T16:06:26.597830Z",
     "iopub.status.busy": "2023-01-25T16:06:26.597338Z",
     "iopub.status.idle": "2023-01-25T16:06:26.615531Z",
     "shell.execute_reply": "2023-01-25T16:06:26.613814Z",
     "shell.execute_reply.started": "2023-01-25T16:06:26.597792Z"
    }
   },
   "outputs": [],
   "source": [
    "df=pd.read_csv(\"water_potability.csv\")\n",
    "df1=df.copy()"
   ]
  },
  {
   "cell_type": "code",
   "execution_count": 3,
   "metadata": {
    "execution": {
     "iopub.execute_input": "2023-01-25T16:06:44.407298Z",
     "iopub.status.busy": "2023-01-25T16:06:44.406905Z",
     "iopub.status.idle": "2023-01-25T16:06:44.418791Z",
     "shell.execute_reply": "2023-01-25T16:06:44.417285Z",
     "shell.execute_reply.started": "2023-01-25T16:06:44.407263Z"
    }
   },
   "outputs": [],
   "source": [
    "z=[\"ph\",\"Sulfate\",\"Trihalomethanes\"]\n",
    "for col in z:\n",
    "    df[col].replace(np.nan, df[col].mean(), inplace=True)"
   ]
  },
  {
   "cell_type": "code",
   "execution_count": 4,
   "metadata": {},
   "outputs": [],
   "source": [
    "df.drop(3014,inplace=True)"
   ]
  },
  {
   "cell_type": "code",
   "execution_count": 5,
   "metadata": {},
   "outputs": [],
   "source": [
    "df_1 =df[df['Potability']==1]\n",
    "df_0 = df[df['Potability']==0]\n",
    "# no_water = df.dropna()\n",
    "cols = list(df_1.columns)"
   ]
  },
  {
   "cell_type": "code",
   "execution_count": 6,
   "metadata": {},
   "outputs": [],
   "source": [
    "def change(df_1,column, upper_limit,lis,lower_limit):\n",
    "    for i in range(len(df_1)):\n",
    "        x = df_1.iloc[i:i+1][column].values[0]\n",
    "        if (x>=upper_limit):\n",
    "            lis[i] = 0\n",
    "        if(column=='ph'):\n",
    "            if(x<=lower_limit):\n",
    "                lis[i] = 0\n",
    "    return lis"
   ]
  },
  {
   "cell_type": "code",
   "execution_count": 7,
   "metadata": {},
   "outputs": [],
   "source": [
    "lis = df_1['Potability'].values\n",
    "lis1 = df_0['Potability'].values"
   ]
  },
  {
   "cell_type": "code",
   "execution_count": 8,
   "metadata": {},
   "outputs": [
    {
     "name": "stdout",
     "output_type": "stream",
     "text": [
      "ph 9.922433443185925 4.209458530820333\n",
      "Hardness 283.5127538042832 108.82119802510387\n",
      "Solids 46429.61356370653 -2787.3920824244906\n",
      "Chloramines 11.356953261826861 2.9364417441007067\n",
      "Sulfate 417.44038994875245 250.4204810090075\n",
      "Conductivity 668.981243898836 176.11368975582258\n",
      "Organic_carbon 22.83976790942959 5.550374644552143\n",
      "Trihalomethanes 107.3018632545189 26.676779263653483\n",
      "Turbidity 6.127557485528579 1.8129204506468555\n"
     ]
    }
   ],
   "source": [
    "\n",
    "for i in cols[:-1]:\n",
    "    Q1 = df_1[i].quantile(0.25)\n",
    "    Q3 =df_1[i].quantile(0.75)\n",
    "    iqr = Q3 - Q1\n",
    "    upper_limit = Q3 + 1.5* iqr\n",
    "    lower_limit = Q1 - 1.5 * iqr\n",
    "    print(i,upper_limit,lower_limit)\n",
    "    lis = change(df_1,i,upper_limit, lis, lower_limit)\n",
    "# print(len(lis))"
   ]
  },
  {
   "cell_type": "code",
   "execution_count": 9,
   "metadata": {},
   "outputs": [],
   "source": [
    "dff=pd.DataFrame() \n",
    "for i in cols:\n",
    "    dff[i] = df_1[i]\n"
   ]
  },
  {
   "cell_type": "code",
   "execution_count": 10,
   "metadata": {},
   "outputs": [],
   "source": [
    "dff['Potability'] = lis"
   ]
  },
  {
   "cell_type": "code",
   "execution_count": 11,
   "metadata": {},
   "outputs": [],
   "source": [
    "final_df = pd.concat([df_0, dff])\n",
    "final_df1 = final_df[final_df['Potability']==1]\n",
    "final_df2 = final_df[final_df['Potability']==0]"
   ]
  },
  {
   "cell_type": "code",
   "execution_count": 12,
   "metadata": {
    "scrolled": false
   },
   "outputs": [
    {
     "name": "stdout",
     "output_type": "stream",
     "text": [
      "13.999999999999998\n",
      "304.23591211231667\n",
      "61227.19600771213\n",
      "12.653362021943142\n",
      "460.1070689926536\n",
      "753.3426195583046\n",
      "28.30000000000001\n",
      "120.03007700530677\n",
      "6.739\n",
      "0\n"
     ]
    },
    {
     "name": "stderr",
     "output_type": "stream",
     "text": [
      "C:\\Users\\mamid\\anaconda3\\lib\\site-packages\\pandas\\core\\generic.py:6392: SettingWithCopyWarning: \n",
      "A value is trying to be set on a copy of a slice from a DataFrame\n",
      "\n",
      "See the caveats in the documentation: https://pandas.pydata.org/pandas-docs/stable/user_guide/indexing.html#returning-a-view-versus-a-copy\n",
      "  return self._update_inplace(result)\n"
     ]
    }
   ],
   "source": [
    "for i in cols:\n",
    "    cx = df_0[i].max()\n",
    "    print(cx)\n",
    "    final_df2[i].fillna(float(cx), inplace = True)"
   ]
  },
  {
   "cell_type": "code",
   "execution_count": 13,
   "metadata": {},
   "outputs": [],
   "source": [
    "\n",
    "lid = list(final_df1['Potability']) + list(final_df2['Potability'])\n"
   ]
  },
  {
   "cell_type": "code",
   "execution_count": 14,
   "metadata": {},
   "outputs": [],
   "source": [
    "from  sklearn.preprocessing import PowerTransformer\n",
    "px = PowerTransformer(method = 'box-cox')\n",
    "x_trans = px.fit_transform(final_df1.iloc[:,:-1])\n",
    "x1_trans = px.fit_transform(final_df2.iloc[:,:-1])\n"
   ]
  },
  {
   "cell_type": "code",
   "execution_count": 15,
   "metadata": {},
   "outputs": [],
   "source": [
    "d1 = pd.DataFrame(x_trans, columns=cols[:-1])\n",
    "d2 = pd.DataFrame(x1_trans, columns=cols[:-1])"
   ]
  },
  {
   "cell_type": "code",
   "execution_count": 22,
   "metadata": {},
   "outputs": [
    {
     "ename": "NameError",
     "evalue": "name 'fil' is not defined",
     "output_type": "error",
     "traceback": [
      "\u001b[1;31m---------------------------------------------------------------------------\u001b[0m",
      "\u001b[1;31mNameError\u001b[0m                                 Traceback (most recent call last)",
      "Input \u001b[1;32mIn [22]\u001b[0m, in \u001b[0;36m<cell line: 3>\u001b[1;34m()\u001b[0m\n\u001b[0;32m      1\u001b[0m fi1 \u001b[38;5;241m=\u001b[39m pd\u001b[38;5;241m.\u001b[39mconcat([d1,d2],ignore_index\u001b[38;5;241m=\u001b[39m\u001b[38;5;28;01mTrue\u001b[39;00m)\n\u001b[0;32m      2\u001b[0m fi1[\u001b[38;5;124m'\u001b[39m\u001b[38;5;124mPotability\u001b[39m\u001b[38;5;124m'\u001b[39m] \u001b[38;5;241m=\u001b[39m lid\n\u001b[1;32m----> 3\u001b[0m \u001b[43mfil\u001b[49m\n",
      "\u001b[1;31mNameError\u001b[0m: name 'fil' is not defined"
     ]
    }
   ],
   "source": [
    "fi1 = pd.concat([d1,d2],ignore_index=True)\n",
    "fi1['Potability'] = lid\n"
   ]
  },
  {
   "cell_type": "code",
   "execution_count": 17,
   "metadata": {},
   "outputs": [],
   "source": [
    "final_df = pd.concat([final_df1, final_df2],ignore_index=True)"
   ]
  },
  {
   "cell_type": "code",
   "execution_count": 47,
   "metadata": {},
   "outputs": [
    {
     "name": "stderr",
     "output_type": "stream",
     "text": [
      "C:\\Users\\mamid\\anaconda3\\lib\\site-packages\\sklearn\\neural_network\\_multilayer_perceptron.py:692: ConvergenceWarning: Stochastic Optimizer: Maximum iterations (500) reached and the optimization hasn't converged yet.\n",
      "  warnings.warn(\n"
     ]
    }
   ],
   "source": [
    "# from sklearn.neural_network import MLPClassifier\n",
    "# mlp = MLPClassifier(activation=\"relu\", max_iter = 500, hidden_layer_sizes=300 )\n",
    "# mlp.fit(x_train, y_train)\n",
    "# y_pred = mlp.predict(x_test)"
   ]
  },
  {
   "cell_type": "code",
   "execution_count": 23,
   "metadata": {},
   "outputs": [
    {
     "data": {
      "text/html": [
       "<div>\n",
       "<style scoped>\n",
       "    .dataframe tbody tr th:only-of-type {\n",
       "        vertical-align: middle;\n",
       "    }\n",
       "\n",
       "    .dataframe tbody tr th {\n",
       "        vertical-align: top;\n",
       "    }\n",
       "\n",
       "    .dataframe thead th {\n",
       "        text-align: right;\n",
       "    }\n",
       "</style>\n",
       "<table border=\"1\" class=\"dataframe\">\n",
       "  <thead>\n",
       "    <tr style=\"text-align: right;\">\n",
       "      <th></th>\n",
       "      <th>ph</th>\n",
       "      <th>Hardness</th>\n",
       "      <th>Solids</th>\n",
       "      <th>Chloramines</th>\n",
       "      <th>Sulfate</th>\n",
       "      <th>Conductivity</th>\n",
       "      <th>Organic_carbon</th>\n",
       "      <th>Trihalomethanes</th>\n",
       "      <th>Turbidity</th>\n",
       "      <th>Potability</th>\n",
       "    </tr>\n",
       "  </thead>\n",
       "  <tbody>\n",
       "    <tr>\n",
       "      <th>0</th>\n",
       "      <td>2.131333</td>\n",
       "      <td>-1.527219</td>\n",
       "      <td>-1.083499</td>\n",
       "      <td>1.536448</td>\n",
       "      <td>-0.582939</td>\n",
       "      <td>1.904232</td>\n",
       "      <td>-1.675380</td>\n",
       "      <td>0.722460</td>\n",
       "      <td>-0.117331</td>\n",
       "      <td>1</td>\n",
       "    </tr>\n",
       "    <tr>\n",
       "      <th>1</th>\n",
       "      <td>1.761583</td>\n",
       "      <td>-2.018852</td>\n",
       "      <td>-0.194621</td>\n",
       "      <td>0.575844</td>\n",
       "      <td>-0.846971</td>\n",
       "      <td>0.363265</td>\n",
       "      <td>0.170620</td>\n",
       "      <td>0.464990</td>\n",
       "      <td>0.025313</td>\n",
       "      <td>1</td>\n",
       "    </tr>\n",
       "    <tr>\n",
       "      <th>2</th>\n",
       "      <td>0.024775</td>\n",
       "      <td>-0.826129</td>\n",
       "      <td>0.230301</td>\n",
       "      <td>0.910167</td>\n",
       "      <td>0.040502</td>\n",
       "      <td>0.646951</td>\n",
       "      <td>-0.391459</td>\n",
       "      <td>-1.003364</td>\n",
       "      <td>-1.548634</td>\n",
       "      <td>1</td>\n",
       "    </tr>\n",
       "    <tr>\n",
       "      <th>3</th>\n",
       "      <td>-0.230047</td>\n",
       "      <td>1.440169</td>\n",
       "      <td>1.885647</td>\n",
       "      <td>1.575692</td>\n",
       "      <td>-3.067585</td>\n",
       "      <td>-0.561985</td>\n",
       "      <td>-0.840217</td>\n",
       "      <td>0.464939</td>\n",
       "      <td>-0.143486</td>\n",
       "      <td>1</td>\n",
       "    </tr>\n",
       "    <tr>\n",
       "      <th>4</th>\n",
       "      <td>0.109270</td>\n",
       "      <td>0.195124</td>\n",
       "      <td>-0.127995</td>\n",
       "      <td>0.356265</td>\n",
       "      <td>-1.163326</td>\n",
       "      <td>-1.396347</td>\n",
       "      <td>0.098005</td>\n",
       "      <td>0.507266</td>\n",
       "      <td>-0.033513</td>\n",
       "      <td>1</td>\n",
       "    </tr>\n",
       "    <tr>\n",
       "      <th>...</th>\n",
       "      <td>...</td>\n",
       "      <td>...</td>\n",
       "      <td>...</td>\n",
       "      <td>...</td>\n",
       "      <td>...</td>\n",
       "      <td>...</td>\n",
       "      <td>...</td>\n",
       "      <td>...</td>\n",
       "      <td>...</td>\n",
       "      <td>...</td>\n",
       "    </tr>\n",
       "    <tr>\n",
       "      <th>3270</th>\n",
       "      <td>2.216150</td>\n",
       "      <td>-0.696789</td>\n",
       "      <td>0.820386</td>\n",
       "      <td>-0.041104</td>\n",
       "      <td>-1.683860</td>\n",
       "      <td>-1.903429</td>\n",
       "      <td>1.006688</td>\n",
       "      <td>-0.716823</td>\n",
       "      <td>0.214195</td>\n",
       "      <td>0</td>\n",
       "    </tr>\n",
       "    <tr>\n",
       "      <th>3271</th>\n",
       "      <td>2.304203</td>\n",
       "      <td>0.063897</td>\n",
       "      <td>0.887320</td>\n",
       "      <td>-0.854565</td>\n",
       "      <td>-0.874813</td>\n",
       "      <td>-0.499344</td>\n",
       "      <td>0.178970</td>\n",
       "      <td>-1.168636</td>\n",
       "      <td>0.502413</td>\n",
       "      <td>0</td>\n",
       "    </tr>\n",
       "    <tr>\n",
       "      <th>3272</th>\n",
       "      <td>-2.118196</td>\n",
       "      <td>1.447348</td>\n",
       "      <td>0.416060</td>\n",
       "      <td>-0.326852</td>\n",
       "      <td>0.880900</td>\n",
       "      <td>0.247478</td>\n",
       "      <td>-0.303506</td>\n",
       "      <td>-0.444950</td>\n",
       "      <td>0.998610</td>\n",
       "      <td>0</td>\n",
       "    </tr>\n",
       "    <tr>\n",
       "      <th>3273</th>\n",
       "      <td>2.731811</td>\n",
       "      <td>-3.040021</td>\n",
       "      <td>1.562544</td>\n",
       "      <td>1.336938</td>\n",
       "      <td>-2.203317</td>\n",
       "      <td>0.220866</td>\n",
       "      <td>0.558382</td>\n",
       "      <td>-1.561020</td>\n",
       "      <td>0.510936</td>\n",
       "      <td>0</td>\n",
       "    </tr>\n",
       "    <tr>\n",
       "      <th>3274</th>\n",
       "      <td>-1.489695</td>\n",
       "      <td>-0.084650</td>\n",
       "      <td>2.381310</td>\n",
       "      <td>0.018970</td>\n",
       "      <td>0.686128</td>\n",
       "      <td>1.220715</td>\n",
       "      <td>-0.124508</td>\n",
       "      <td>0.007751</td>\n",
       "      <td>0.595285</td>\n",
       "      <td>0</td>\n",
       "    </tr>\n",
       "  </tbody>\n",
       "</table>\n",
       "<p>3275 rows × 10 columns</p>\n",
       "</div>"
      ],
      "text/plain": [
       "            ph  Hardness    Solids  Chloramines   Sulfate  Conductivity  \\\n",
       "0     2.131333 -1.527219 -1.083499     1.536448 -0.582939      1.904232   \n",
       "1     1.761583 -2.018852 -0.194621     0.575844 -0.846971      0.363265   \n",
       "2     0.024775 -0.826129  0.230301     0.910167  0.040502      0.646951   \n",
       "3    -0.230047  1.440169  1.885647     1.575692 -3.067585     -0.561985   \n",
       "4     0.109270  0.195124 -0.127995     0.356265 -1.163326     -1.396347   \n",
       "...        ...       ...       ...          ...       ...           ...   \n",
       "3270  2.216150 -0.696789  0.820386    -0.041104 -1.683860     -1.903429   \n",
       "3271  2.304203  0.063897  0.887320    -0.854565 -0.874813     -0.499344   \n",
       "3272 -2.118196  1.447348  0.416060    -0.326852  0.880900      0.247478   \n",
       "3273  2.731811 -3.040021  1.562544     1.336938 -2.203317      0.220866   \n",
       "3274 -1.489695 -0.084650  2.381310     0.018970  0.686128      1.220715   \n",
       "\n",
       "      Organic_carbon  Trihalomethanes  Turbidity  Potability  \n",
       "0          -1.675380         0.722460  -0.117331           1  \n",
       "1           0.170620         0.464990   0.025313           1  \n",
       "2          -0.391459        -1.003364  -1.548634           1  \n",
       "3          -0.840217         0.464939  -0.143486           1  \n",
       "4           0.098005         0.507266  -0.033513           1  \n",
       "...              ...              ...        ...         ...  \n",
       "3270        1.006688        -0.716823   0.214195           0  \n",
       "3271        0.178970        -1.168636   0.502413           0  \n",
       "3272       -0.303506        -0.444950   0.998610           0  \n",
       "3273        0.558382        -1.561020   0.510936           0  \n",
       "3274       -0.124508         0.007751   0.595285           0  \n",
       "\n",
       "[3275 rows x 10 columns]"
      ]
     },
     "execution_count": 23,
     "metadata": {},
     "output_type": "execute_result"
    }
   ],
   "source": []
  },
  {
   "cell_type": "code",
   "execution_count": 34,
   "metadata": {
    "execution": {
     "iopub.execute_input": "2023-01-25T16:08:13.297022Z",
     "iopub.status.busy": "2023-01-25T16:08:13.296625Z",
     "iopub.status.idle": "2023-01-25T16:08:13.414938Z",
     "shell.execute_reply": "2023-01-25T16:08:13.413735Z",
     "shell.execute_reply.started": "2023-01-25T16:08:13.296983Z"
    }
   },
   "outputs": [],
   "source": [
    "#split the dataset in Training set and Test set\n",
    "from sklearn.model_selection import train_test_split\n",
    "x_train, x_test, y_train, y_test = train_test_split(fi1.iloc[:,:-1], fi1['Potability'], test_size = 0.25,random_state=400)\n"
   ]
  },
  {
   "cell_type": "markdown",
   "metadata": {},
   "source": [
    "# XGBOOST\n"
   ]
  },
  {
   "cell_type": "code",
   "execution_count": 179,
   "metadata": {},
   "outputs": [
    {
     "name": "stdout",
     "output_type": "stream",
     "text": [
      "0.8302808302808303\n"
     ]
    }
   ],
   "source": [
    "from xgboost.sklearn import XGBClassifier\n",
    "from sklearn.metrics import accuracy_score\n",
    "x_train, x_test, y_train, y_test = train_test_split(fi1.iloc[:,:-1], fi1['Potability'], test_size = 0.25,random_state=299)\n",
    "Xgb = XGBClassifier(max_depth=9, n_estimators = 63, n_jobs=1,colsample_bytree=0.7,reg_alpha=0,reg_lambda=0.5,gamma=0.1,random_state=321)\n",
    "Xgb.fit(x_train,y_train)\n",
    "y_pred = Xgb.predict(x_test)\n",
    "c = float(accuracy_score(y_test,y_pred))\n",
    "print(c)"
   ]
  },
  {
   "cell_type": "code",
   "execution_count": null,
   "metadata": {},
   "outputs": [],
   "source": [
    "import pickle\n",
    "pickle_out=open(\"clsxgb.pkl\",\"wb\")\n",
    "pickle.dump(Xgb,pickle_out)\n",
    "pickle_out.close()"
   ]
  },
  {
   "cell_type": "markdown",
   "metadata": {},
   "source": [
    "# RANDOMFOREST"
   ]
  },
  {
   "cell_type": "code",
   "execution_count": 160,
   "metadata": {},
   "outputs": [
    {
     "name": "stdout",
     "output_type": "stream",
     "text": [
      "0.8424908424908425\n"
     ]
    }
   ],
   "source": [
    "    from sklearn.ensemble import RandomForestClassifier\n",
    "    x_train, x_test, y_train, y_test = train_test_split(fi1.iloc[:,:-1], fi1['Potability'], test_size = 0.25,random_state=292)\n",
    "    rfc = RandomForestClassifier(n_estimators=100,max_features= 0.8, criterion=\"entropy\",max_depth= 9,random_state=60);\n",
    "    rfc.fit(x_train, y_train)\n",
    "    y_pred = rfc.predict(x_test)\n",
    "    a=accuracy_score(y_pred, y_test)\n",
    "    print(a)"
   ]
  },
  {
   "cell_type": "code",
   "execution_count": 128,
   "metadata": {},
   "outputs": [],
   "source": [
    "import pickle\n",
    "pickle_out=open(\"clsrf.pkl\",\"wb\")\n",
    "pickle.dump(rfc,pickle_out)\n",
    "pickle_out.close()"
   ]
  },
  {
   "cell_type": "markdown",
   "metadata": {},
   "source": [
    "# LOGISTIC REGRESSION"
   ]
  },
  {
   "cell_type": "code",
   "execution_count": 115,
   "metadata": {
    "scrolled": true
   },
   "outputs": [
    {
     "data": {
      "text/plain": [
       "0.6886409736308317"
      ]
     },
     "execution_count": 115,
     "metadata": {},
     "output_type": "execute_result"
    }
   ],
   "source": [
    "from sklearn.linear_model import LogisticRegression\n",
    "x_train, x_test, y_train, y_test = train_test_split(fi1.iloc[:,:-1], fi1['Potability'], test_size = 0.30098,random_state=353)\n",
    "log_clf = LogisticRegression(random_state=190,solver='saga',max_iter=100)\n",
    "log_clf.fit(x_train,y_train)\n",
    "y_predl=log_clf.predict(x_test)\n",
    "accuracy_score(y_predl, y_test)\n"
   ]
  },
  {
   "cell_type": "code",
   "execution_count": 129,
   "metadata": {},
   "outputs": [],
   "source": [
    "import pickle\n",
    "pickle_out=open(\"clslr.pkl\",\"wb\")\n",
    "pickle.dump(log_clf,pickle_out)\n",
    "pickle_out.close()"
   ]
  },
  {
   "cell_type": "code",
   "execution_count": 177,
   "metadata": {},
   "outputs": [
    {
     "name": "stdout",
     "output_type": "stream",
     "text": [
      "0.8302808302808303 63\n"
     ]
    }
   ],
   "source": [
    "# op={}\n",
    "# # from sklearn.linear_model import LogisticRegression\n",
    "# for i in range(400):\n",
    "#     x_train, x_test, y_train, y_test = train_test_split(fi1.iloc[:,:-1], fi1['Potability'], test_size = 0.25,random_state=299)\n",
    "#     Xgb = XGBClassifier(max_depth=9, n_estimators = i, n_jobs=1,colsample_bytree=0.7,reg_alpha=0,reg_lambda=0.5,gamma=0.1,random_state=321)\n",
    "#     Xgb.fit(x_train,y_train)\n",
    "#     y_pred = Xgb.predict(x_test)\n",
    "#     a = float(accuracy_score(y_test,y_pred))\n",
    "#     op.update({a:i})\n",
    "# for k,v in op.items():    \n",
    "#     if k==max(list(op.keys())):\n",
    "#         print(k,v)"
   ]
  },
  {
   "cell_type": "markdown",
   "metadata": {},
   "source": [
    "<!-- import pickle\n",
    "pickle_out=open(\"cls.pkl\",\"wb\")\n",
    "pickle.dump(rfor_clf,pickle_out)\n",
    "pickle_out.close() -->"
   ]
  },
  {
   "cell_type": "code",
   "execution_count": null,
   "metadata": {},
   "outputs": [],
   "source": []
  }
 ],
 "metadata": {
  "kernelspec": {
   "display_name": "Python 3 (ipykernel)",
   "language": "python",
   "name": "python3"
  },
  "language_info": {
   "codemirror_mode": {
    "name": "ipython",
    "version": 3
   },
   "file_extension": ".py",
   "mimetype": "text/x-python",
   "name": "python",
   "nbconvert_exporter": "python",
   "pygments_lexer": "ipython3",
   "version": "3.9.12"
  }
 },
 "nbformat": 4,
 "nbformat_minor": 4
}
